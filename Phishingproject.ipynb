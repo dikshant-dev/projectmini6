{
 "cells": [
  {
   "cell_type": "markdown",
   "metadata": {},
   "source": [
    "# Phishing Website Detection Using Machine Learning\n",
    "\n",
    "The Internet has become an indispensable part of our life, However, It also has provided opportunities to anonymously perform malicious activities like Phishing. Phishers try to deceive their victims by social engineering or creating mockup websites to steal information such as account ID, username, password from individuals and organizations.\n"
   ]
  },
  {
   "cell_type": "markdown",
   "metadata": {},
   "source": [
    "The steps demonstrated in this notebook are:\n",
    "\n",
    "1. Loading the data\n",
    "2. Familiarizing with data & EDA\n",
    "3. Visualizing the data\n",
    "4. Splitting the data\n",
    "5. Training the 3 selected models\n",
    "6. Comparison of Models\n",
    "7. Conclusion\n"
   ]
  },
  {
   "cell_type": "code",
   "execution_count": 1,
   "metadata": {},
   "outputs": [],
   "source": [
    "# Importing required libraries\n",
    "import numpy as np\n",
    "import pandas as pd\n",
    "import matplotlib.pyplot as plt\n",
    "%matplotlib inline\n",
    "import seaborn as sns\n",
    "from sklearn import metrics \n",
    "import warnings\n",
    "warnings.filterwarnings('ignore')\n"
   ]
  },
  {
   "cell_type": "code",
   "execution_count": 5,
   "metadata": {},
   "outputs": [
    {
     "name": "stdout",
     "output_type": "stream",
     "text": [
      "Requirement already satisfied: matplotlib in c:\\users\\vivek\\onedrive\\desktop\\phishing-detector-main\\venv\\lib\\site-packages (3.10.6)\n",
      "Requirement already satisfied: seaborn in c:\\users\\vivek\\onedrive\\desktop\\phishing-detector-main\\venv\\lib\\site-packages (0.13.2)\n",
      "Requirement already satisfied: contourpy>=1.0.1 in c:\\users\\vivek\\onedrive\\desktop\\phishing-detector-main\\venv\\lib\\site-packages (from matplotlib) (1.3.3)\n",
      "Requirement already satisfied: cycler>=0.10 in c:\\users\\vivek\\onedrive\\desktop\\phishing-detector-main\\venv\\lib\\site-packages (from matplotlib) (0.12.1)\n",
      "Requirement already satisfied: fonttools>=4.22.0 in c:\\users\\vivek\\onedrive\\desktop\\phishing-detector-main\\venv\\lib\\site-packages (from matplotlib) (4.59.2)\n",
      "Requirement already satisfied: kiwisolver>=1.3.1 in c:\\users\\vivek\\onedrive\\desktop\\phishing-detector-main\\venv\\lib\\site-packages (from matplotlib) (1.4.9)\n",
      "Requirement already satisfied: numpy>=1.23 in c:\\users\\vivek\\onedrive\\desktop\\phishing-detector-main\\venv\\lib\\site-packages (from matplotlib) (1.26.4)\n",
      "Requirement already satisfied: packaging>=20.0 in c:\\users\\vivek\\onedrive\\desktop\\phishing-detector-main\\venv\\lib\\site-packages (from matplotlib) (25.0)\n",
      "Requirement already satisfied: pillow>=8 in c:\\users\\vivek\\onedrive\\desktop\\phishing-detector-main\\venv\\lib\\site-packages (from matplotlib) (11.3.0)\n",
      "Requirement already satisfied: pyparsing>=2.3.1 in c:\\users\\vivek\\onedrive\\desktop\\phishing-detector-main\\venv\\lib\\site-packages (from matplotlib) (3.2.3)\n",
      "Requirement already satisfied: python-dateutil>=2.7 in c:\\users\\vivek\\onedrive\\desktop\\phishing-detector-main\\venv\\lib\\site-packages (from matplotlib) (2.8.2)\n",
      "Requirement already satisfied: pandas>=1.2 in c:\\users\\vivek\\onedrive\\desktop\\phishing-detector-main\\venv\\lib\\site-packages (from seaborn) (2.2.2)\n",
      "Requirement already satisfied: pytz>=2020.1 in c:\\users\\vivek\\onedrive\\desktop\\phishing-detector-main\\venv\\lib\\site-packages (from pandas>=1.2->seaborn) (2025.2)\n",
      "Requirement already satisfied: tzdata>=2022.7 in c:\\users\\vivek\\onedrive\\desktop\\phishing-detector-main\\venv\\lib\\site-packages (from pandas>=1.2->seaborn) (2025.2)\n",
      "Requirement already satisfied: six>=1.5 in c:\\users\\vivek\\onedrive\\desktop\\phishing-detector-main\\venv\\lib\\site-packages (from python-dateutil>=2.7->matplotlib) (1.17.0)\n"
     ]
    },
    {
     "name": "stderr",
     "output_type": "stream",
     "text": [
      "\n",
      "[notice] A new release of pip available: 22.3 -> 25.2\n",
      "[notice] To update, run: python.exe -m pip install --upgrade pip\n"
     ]
    }
   ],
   "source": [
    "!pip install matplotlib seaborn\n",
    "\n"
   ]
  },
  {
   "cell_type": "markdown",
   "metadata": {},
   "source": [
    "## 1. Loading Data:\n",
    "The dataset is borrowed from Kaggle, https://www.kaggle.com/eswarchandt/phishing-website-detector \n",
    "\n",
    "A collection of website URLs for 11000+ websites. Each sample has 30 website parameters and a class label identifying it as a phishing website or not (1 or -1).\n",
    "\n",
    "The overview of this dataset is, it has 11054 samples with 32 features. Download the dataset from the link provided.\n"
   ]
  },
  {
   "cell_type": "code",
   "execution_count": 6,
   "metadata": {},
   "outputs": [
    {
     "name": "stdout",
     "output_type": "stream",
     "text": [
      "Training set: (8843, 30)\n",
      "Test set: (2211, 30)\n"
     ]
    }
   ],
   "source": [
    "#Loading data into dataframe\n",
    "import pandas as pd\n",
    "\n",
    "data = pd.read_csv(r\"DataFiles/phishing.csv\")\n",
    "data.head()\n",
    "\n",
    "# Remove Index column\n",
    "data = data.drop(['Index'], axis=1)\n",
    "\n",
    "# Separate features and target\n",
    "y = data['class']\n",
    "X = data.drop('class', axis=1)\n",
    "\n",
    "# Split the data\n",
    "from sklearn.model_selection import train_test_split\n",
    "X_train, X_test, y_train, y_test = train_test_split(X, y, test_size=0.2, random_state=42)\n",
    "print(f\"Training set: {X_train.shape}\")\n",
    "print(f\"Test set: {X_test.shape}\")\n"
   ]
  },
  {
   "cell_type": "markdown",
   "metadata": {},
   "source": [
    "\n",
    "\n",
    "\n",
    "\n",
    "\n",
    "\n",
    "\n",
    "\n",
    "\n",
    "\n",
    "\n",
    "\n",
    "\n",
    "\n",
    "\n",
    "\n",
    "\n",
    "\n",
    "\n",
    "\n",
    "\n",
    "\n",
    "\n",
    "\n",
    "\n",
    "\n",
    "## 5. Model Building & Training:\n",
    "Supervised machine learning is one of the most commonly used and successful types of machine learning. Our data set comes under classification problem, as we need to classify URLs as phishing or legitimate. The supervised machine learning models (classification) considered to train the dataset in this notebook are:\n",
    "\n",
    "1. **Logistic Regression**\n",
    "2. **Decision Tree Classifier**\n",
    "3. **Gradient Boosting Classifier**\n",
    "\n",
    "The metrics considered to evaluate the model performance are Accuracy & F1 score.\n"
   ]
  },
  {
   "cell_type": "code",
   "execution_count": 7,
   "metadata": {},
   "outputs": [],
   "source": [
    "# Creating holders to store the model performance results\n",
    "ML_Model = []\n",
    "accuracy = []\n",
    "f1_scores_list = []   # renamed to avoid clash with sklearn f1_score function\n",
    "recall = []\n",
    "precision = []\n",
    "\n",
    "# Function to call for storing the results\n",
    "def storeResults(model, a, b, c, d):\n",
    "    ML_Model.append(model)\n",
    "    accuracy.append(round(a, 3))\n",
    "    f1_scores_list.append(round(b, 3))\n",
    "    recall.append(round(c, 3))\n",
    "    precision.append(round(d, 3))\n"
   ]
  },
  {
   "cell_type": "markdown",
   "metadata": {},
   "source": [
    "## 5.1. Logistic Regression\n",
    "\n",
    "Logistic regression predicts the output of a categorical dependent variable. Therefore the outcome must be a categorical or discrete value. Logistic Regression is much similar to the Linear Regression except that how they are used. Linear Regression is used for solving Regression problems, whereas Logistic regression is used for solving the classification problems.\n"
   ]
  },
  {
   "cell_type": "code",
   "execution_count": 8,
   "metadata": {},
   "outputs": [
    {
     "name": "stdout",
     "output_type": "stream",
     "text": [
      "Logistic Regression - Accuracy: 0.934\n",
      "Logistic Regression - F1 Score: 0.941\n"
     ]
    }
   ],
   "source": [
    "# Logistic Regression model\n",
    "from sklearn.linear_model import LogisticRegression\n",
    "\n",
    "# Instantiate and fit the model\n",
    "log = LogisticRegression()\n",
    "log.fit(X_train, y_train)\n",
    "\n",
    "# Predictions\n",
    "y_test_log = log.predict(X_test)\n",
    "\n",
    "# Metrics\n",
    "acc_test_log = metrics.accuracy_score(y_test, y_test_log)\n",
    "f1_score_test_log = metrics.f1_score(y_test, y_test_log)\n",
    "recall_score_test_log = metrics.recall_score(y_test, y_test_log)\n",
    "precision_score_test_log = metrics.precision_score(y_test, y_test_log)\n",
    "\n",
    "print(f\"Logistic Regression - Accuracy: {acc_test_log:.3f}\")\n",
    "print(f\"Logistic Regression - F1 Score: {f1_score_test_log:.3f}\")\n",
    "\n",
    "# Store results\n",
    "storeResults('Logistic Regression', acc_test_log, f1_score_test_log, recall_score_test_log, precision_score_test_log)\n"
   ]
  },
  {
   "cell_type": "code",
   "execution_count": 9,
   "metadata": {},
   "outputs": [
    {
     "name": "stdout",
     "output_type": "stream",
     "text": [
      "Logistic Regression Test Accuracy: 93.35%\n"
     ]
    }
   ],
   "source": [
    "# Test Accuracy for Logistic Regression\n",
    "from sklearn.metrics import accuracy_score\n",
    "\n",
    "# Predict on test data\n",
    "y_pred_log = log.predict(X_test)\n",
    "\n",
    "# Calculate accuracy\n",
    "log_accuracy = accuracy_score(y_test, y_pred_log)\n",
    "print(f\"Logistic Regression Test Accuracy: {log_accuracy * 100:.2f}%\")\n"
   ]
  },
  {
   "cell_type": "markdown",
   "metadata": {},
   "source": [
    "## 5.2. Decision Tree Classifier\n",
    "\n",
    "Decision Tree is a Supervised learning technique that can be used for both classification and Regression problems, but mostly it is preferred for solving Classification problems. It is a tree-structured classifier, where internal nodes represent the features of a dataset, branches represent the decision rules and each leaf node represents the outcome.\n"
   ]
  },
  {
   "cell_type": "code",
   "execution_count": 10,
   "metadata": {},
   "outputs": [
    {
     "name": "stdout",
     "output_type": "stream",
     "text": [
      "Decision Tree Classifier - Accuracy: 0.958\n",
      "Decision Tree Classifier - F1 Score: 0.963\n"
     ]
    }
   ],
   "source": [
    "# Decision Tree Classifier model\n",
    "from sklearn.tree import DecisionTreeClassifier\n",
    "\n",
    "# instantiate the model\n",
    "tree = DecisionTreeClassifier(max_depth=30)\n",
    "\n",
    "# fit the model \n",
    "tree.fit(X_train, y_train)\n",
    "\n",
    "#predicting the target value from the model for the samples\n",
    "y_train_tree = tree.predict(X_train)\n",
    "y_test_tree = tree.predict(X_test)\n",
    "\n",
    "#computing the accuracy, f1_score, Recall, precision of the model performance\n",
    "acc_test_tree = metrics.accuracy_score(y_test, y_test_tree)\n",
    "f1_score_test_tree = metrics.f1_score(y_test, y_test_tree)\n",
    "recall_score_test_tree = metrics.recall_score(y_test, y_test_tree)\n",
    "precision_score_test_tree = metrics.precision_score(y_test, y_test_tree)\n",
    "\n",
    "print(f\"Decision Tree Classifier - Accuracy: {acc_test_tree:.3f}\")\n",
    "print(f\"Decision Tree Classifier - F1 Score: {f1_score_test_tree:.3f}\")\n",
    "\n",
    "#storing the results\n",
    "storeResults('Decision Tree Classifier', acc_test_tree, f1_score_test_tree, recall_score_test_tree, precision_score_test_tree)\n"
   ]
  },
  {
   "cell_type": "code",
   "execution_count": 25,
   "metadata": {},
   "outputs": [
    {
     "name": "stdout",
     "output_type": "stream",
     "text": [
      "Decision Tree Training Accuracy: 99.11%\n",
      "Decision Tree Test Accuracy: 95.88%\n"
     ]
    }
   ],
   "source": [
    "from sklearn.metrics import accuracy_score\n",
    "\n",
    "# Predictions\n",
    "y_pred_tree = tree.predict(X_test)          # test predictions\n",
    "tree_test_acc = accuracy_score(y_test, y_pred_tree)\n",
    "\n",
    "y_train_pred_tree = tree.predict(X_train)   # train predictions\n",
    "tree_train_acc = accuracy_score(y_train, y_train_pred_tree)\n",
    "\n",
    "# Print accuracies\n",
    "print(f\"Decision Tree Training Accuracy: {tree_train_acc * 100:.2f}%\")\n",
    "print(f\"Decision Tree Test Accuracy: {tree_test_acc * 100:.2f}%\")\n"
   ]
  },
  {
   "cell_type": "markdown",
   "metadata": {},
   "source": [
    "## 5.3. Gradient Boosting Classifier\n",
    "\n",
    "Gradient Boosting is a machine learning technique for regression and classification problems, which produces a prediction model in the form of an ensemble of weak prediction models, typically decision trees. It builds the model in a stage-wise fashion like other boosting methods do, and it generalizes them by allowing optimization of an arbitrary differentiable loss function.\n"
   ]
  },
  {
   "cell_type": "code",
   "execution_count": 23,
   "metadata": {},
   "outputs": [
    {
     "name": "stdout",
     "output_type": "stream",
     "text": [
      "Gradient Boosting Classifier - Accuracy: 0.949\n",
      "Gradient Boosting Classifier - F1 Score: 0.955\n"
     ]
    }
   ],
   "source": [
    "# Gradient Boosting Classifier model \n",
    "from sklearn.ensemble import GradientBoostingClassifier\n",
    "\n",
    "# instantiate the model\n",
    "gbc = GradientBoostingClassifier(random_state=42)\n",
    "\n",
    "# fit the model \n",
    "gbc.fit(X_train, y_train)\n",
    "\n",
    "#predicting the target value from the model for the samples\n",
    "y_train_gbc = gbc.predict(X_train)\n",
    "y_test_gbc = gbc.predict(X_test)\n",
    "\n",
    "#computing the accuracy, f1_score, Recall, precision of the model performance\n",
    "acc_test_gbc = metrics.accuracy_score(y_test, y_test_gbc)\n",
    "f1_score_test_gbc = metrics.f1_score(y_test, y_test_gbc)\n",
    "recall_score_test_gbc = metrics.recall_score(y_test, y_test_gbc)\n",
    "precision_score_test_gbc = metrics.precision_score(y_test, y_test_gbc)\n",
    "\n",
    "print(f\"Gradient Boosting Classifier - Accuracy: {acc_test_gbc:.3f}\")\n",
    "print(f\"Gradient Boosting Classifier - F1 Score: {f1_score_test_gbc:.3f}\")\n",
    "\n",
    "#storing the results\n",
    "storeResults('Gradient Boosting Classifier', acc_test_gbc, f1_score_test_gbc, recall_score_test_gbc, precision_score_test_gbc)\n"
   ]
  },
  {
   "cell_type": "code",
   "execution_count": 24,
   "metadata": {},
   "outputs": [
    {
     "name": "stdout",
     "output_type": "stream",
     "text": [
      "Gradient Boosting Training Accuracy: 95.11%\n",
      "Gradient Boosting Test Accuracy: 94.93%\n"
     ]
    }
   ],
   "source": [
    "from sklearn.metrics import accuracy_score\n",
    "\n",
    "# Predictions\n",
    "y_pred_gbc = gbc.predict(X_test)          # test predictions\n",
    "gbc_test_acc = accuracy_score(y_test, y_pred_gbc)\n",
    "\n",
    "y_train_pred_gbc = gbc.predict(X_train)   # train predictions\n",
    "gbc_train_acc = accuracy_score(y_train, y_train_pred_gbc)\n",
    "\n",
    "# Print accuracies\n",
    "print(f\"Gradient Boosting Training Accuracy: {gbc_train_acc * 100:.2f}%\")\n",
    "print(f\"Gradient Boosting Test Accuracy: {gbc_test_acc * 100:.2f}%\")\n"
   ]
  },
  {
   "cell_type": "markdown",
   "metadata": {},
   "source": [
    "## 6. Model Comparison & Results\n",
    "\n",
    "Now let's compare the performance of our 3 selected models and identify the best performing one.\n"
   ]
  },
  {
   "cell_type": "code",
   "execution_count": 27,
   "metadata": {},
   "outputs": [
    {
     "name": "stdout",
     "output_type": "stream",
     "text": [
      "📊 FINAL RESULTS - 3 Models:\n",
      "==================================================\n",
      "                    ML_Model  Accuracy  F1_score  Recall  Precision\n",
      "    Decision Tree Classifier     0.960     0.964   0.964      0.965\n",
      "    Decision Tree Classifier     0.959     0.963   0.964      0.963\n",
      "    Decision Tree Classifier     0.958     0.963   0.960      0.965\n",
      "Gradient Boosting Classifier     0.949     0.955   0.962      0.948\n",
      "Gradient Boosting Classifier     0.949     0.955   0.962      0.948\n",
      "Gradient Boosting Classifier     0.949     0.955   0.962      0.948\n",
      "Gradient Boosting Classifier     0.949     0.955   0.962      0.948\n",
      "         Logistic Regression     0.934     0.941   0.953      0.930\n",
      "         Logistic Regression     0.934     0.941   0.953      0.930\n",
      "\n",
      "🏆 BEST MODEL: Decision Tree Classifier\n",
      "🎯 Best Accuracy: 0.960\n"
     ]
    }
   ],
   "source": [
    "# Creating a results dataframe to compare models\n",
    "results = pd.DataFrame({\n",
    "    'ML_Model': ML_Model,\n",
    "    'Accuracy': accuracy,\n",
    "    'F1_score': f1_scores_list,\n",
    "    'Recall': recall,\n",
    "    'Precision': precision\n",
    "})\n",
    "\n",
    "# Sort by accuracy in descending order\n",
    "results = results.sort_values('Accuracy', ascending=False)\n",
    "print(\"📊 FINAL RESULTS - 3 Models:\")\n",
    "print(\"=\" * 50)\n",
    "print(results.to_string(index=False, float_format='%.3f'))\n",
    "\n",
    "# Find the best model\n",
    "best_model_name = results.iloc[0]['ML_Model']\n",
    "best_accuracy = results.iloc[0]['Accuracy']\n",
    "\n",
    "print(f\"\\n🏆 BEST MODEL: {best_model_name}\")\n",
    "print(f\"🎯 Best Accuracy: {best_accuracy:.3f}\")\n"
   ]
  },
  {
   "cell_type": "code",
   "execution_count": 26,
   "metadata": {},
   "outputs": [
    {
     "name": "stdout",
     "output_type": "stream",
     "text": [
      "\n",
      "💾 Saving best model (Decision Tree Classifier) as 'newmodel.pkl'...\n",
      "✅ Model saved successfully!\n"
     ]
    }
   ],
   "source": [
    "# Select the best model\n",
    "if best_model_name == 'Logistic Regression':\n",
    "    best_model = log\n",
    "elif best_model_name == 'Decision Tree Classifier':\n",
    "    best_model = tree\n",
    "else:\n",
    "    best_model = gbc\n",
    "\n",
    "# Save model as pickle\n",
    "import pickle\n",
    "print(f\"\\n💾 Saving best model ({best_model_name}) as 'newmodel.pkl'...\")\n",
    "pickle.dump(best_model, open('newmodel.pkl', 'wb'))\n",
    "print(\"✅ Model saved successfully!\")\n"
   ]
  },
  {
   "cell_type": "code",
   "execution_count": null,
   "metadata": {},
   "outputs": [],
   "source": [
    "# Cell 11 – Confusion Matrix for best model\n",
    "from sklearn.metrics import confusion_matrix, ConfusionMatrixDisplay\n",
    "\n",
    "# Predictions for test set\n",
    "y_pred_best = best_model.predict(X_test)\n",
    "\n",
    "# Compute confusion matrix\n",
    "cm = confusion_matrix(y_test, y_pred_best, labels=[-1, 1])\n",
    "\n",
    "# Plot confusion matrix heatmap\n",
    "disp = ConfusionMatrixDisplay(confusion_matrix=cm, display_labels=[\"Phishing (-1)\", \"Legitimate (1)\"])\n",
    "disp.plot(cmap=plt.cm.Blues)\n",
    "plt.title(f\"Confusion Matrix - {best_model_name}\")\n",
    "plt.show()\n"
   ]
  },
  {
   "cell_type": "code",
   "execution_count": 10,
   "metadata": {},
   "outputs": [
    {
     "data": {
      "image/png": "[encoded data removed]",
      "text/plain": [
       "<Figure size 640x480 with 2 Axes>"
      ]
     },
     "metadata": {},
     "output_type": "display_data"
    }
   ],
   "source": [
    "# Confusion Matrix for Logistic Regression\n",
    "from sklearn.metrics import confusion_matrix, ConfusionMatrixDisplay\n",
    "\n",
    "y_pred_log = log.predict(X_test)  # predictions\n",
    "cm_log = confusion_matrix(y_test, y_pred_log, labels=[-1, 1])\n",
    "\n",
    "disp_log = ConfusionMatrixDisplay(confusion_matrix=cm_log,\n",
    "                                  display_labels=[\"Phishing (-1)\", \"Legitimate (1)\"])\n",
    "disp_log.plot(cmap=plt.cm.Blues)\n",
    "plt.title(\"Confusion Matrix - Logistic Regression\")\n",
    "plt.show()\n"
   ]
  },
  {
   "cell_type": "code",
   "execution_count": 13,
   "metadata": {},
   "outputs": [
    {
     "data": {
      "image/png": "[encoded data removed]",
      "text/plain": [
       "<Figure size 640x480 with 2 Axes>"
      ]
     },
     "metadata": {},
     "output_type": "display_data"
    }
   ],
   "source": [
    "# Confusion Matrix for Gradient Boosting Classifier\n",
    "y_pred_gbc = gbc.predict(X_test)  # predictions\n",
    "cm_gbc = confusion_matrix(y_test, y_pred_gbc, labels=[-1, 1])\n",
    "\n",
    "disp_gbc = ConfusionMatrixDisplay(confusion_matrix=cm_gbc,\n",
    "                                  display_labels=[\"Phishing (-1)\", \"Legitimate (1)\"])\n",
    "disp_gbc.plot(cmap=plt.cm.Blues)\n",
    "plt.title(\"Confusion Matrix - Gradient Boosting Classifier\")\n",
    "plt.show()\n"
   ]
  }
 ],
 "metadata": {
  "kernelspec": {
   "display_name": "venv",
   "language": "python",
   "name": "python3"
  },
  "language_info": {
   "codemirror_mode": {
    "name": "ipython",
    "version": 3
   },
   "file_extension": ".py",
   "mimetype": "text/x-python",
   "name": "python",
   "nbconvert_exporter": "python",
   "pygments_lexer": "ipython3",
   "version": "3.11.0"
  }
 },
 "nbformat": 4,
 "nbformat_minor": 4
}
